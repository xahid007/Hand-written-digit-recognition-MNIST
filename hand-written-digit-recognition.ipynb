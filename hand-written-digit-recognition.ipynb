{
 "cells": [
  {
   "cell_type": "markdown",
   "metadata": {},
   "source": [
    "<h1 style=\"color: red; text-align: center; font-size: 40px; font-weight: bold;\">Handwritten digits classification using neural network</h1>\n",
    "\n",
    "\n",
    "## 🔢 MNIST Dataset: \n",
    "\n",
    "![MNIST](https://production-media.paperswithcode.com/datasets/MNIST-0000000001-2e09631a_09liOmx.jpg)"
   ]
  },
  {
   "cell_type": "markdown",
   "metadata": {},
   "source": [
    "# Importing Dependencies"
   ]
  },
  {
   "cell_type": "code",
   "execution_count": 3,
   "metadata": {
    "_cell_guid": "b1076dfc-b9ad-4769-8c92-a6c4dae69d19",
    "_uuid": "8f2839f25d086af736a60e9eeb907d3b93b6e0e5",
    "execution": {
     "iopub.execute_input": "2023-05-28T08:03:19.347994Z",
     "iopub.status.busy": "2023-05-28T08:03:19.347528Z",
     "iopub.status.idle": "2023-05-28T08:03:19.355218Z",
     "shell.execute_reply": "2023-05-28T08:03:19.354239Z",
     "shell.execute_reply.started": "2023-05-28T08:03:19.347962Z"
    }
   },
   "outputs": [],
   "source": [
    "import tensorflow as tf\n",
    "import pandas as pd\n",
    "import numpy as np\n",
    "import matplotlib.pyplot as plt\n",
    "\n",
    "from keras.models import Sequential\n",
    "from keras.layers import Dense, Activation,Flatten"
   ]
  },
  {
   "cell_type": "markdown",
   "metadata": {},
   "source": [
    "# Loading the Dataset"
   ]
  },
  {
   "cell_type": "code",
   "execution_count": 6,
   "metadata": {
    "execution": {
     "iopub.execute_input": "2023-05-28T08:03:19.361002Z",
     "iopub.status.busy": "2023-05-28T08:03:19.360553Z",
     "iopub.status.idle": "2023-05-28T08:03:19.679173Z",
     "shell.execute_reply": "2023-05-28T08:03:19.677919Z",
     "shell.execute_reply.started": "2023-05-28T08:03:19.360972Z"
    }
   },
   "outputs": [],
   "source": [
    "(x_train, y_train),(x_test, y_test) = tf.keras.datasets.mnist.load_data()"
   ]
  },
  {
   "cell_type": "code",
   "execution_count": 7,
   "metadata": {
    "execution": {
     "iopub.execute_input": "2023-05-28T08:03:19.681859Z",
     "iopub.status.busy": "2023-05-28T08:03:19.681388Z",
     "iopub.status.idle": "2023-05-28T08:03:19.688531Z",
     "shell.execute_reply": "2023-05-28T08:03:19.687377Z",
     "shell.execute_reply.started": "2023-05-28T08:03:19.681820Z"
    }
   },
   "outputs": [
    {
     "name": "stdout",
     "output_type": "stream",
     "text": [
      "(60000, 28, 28)\n",
      "(28, 28)\n",
      "(60000,)\n"
     ]
    }
   ],
   "source": [
    "print(x_train.shape)  #There are 60k 28*28 images\n",
    "print(x_train[0].shape) # Each of the image is 28*28\n",
    "print(y_train.shape)  # There are 60k output labels"
   ]
  },
  {
   "cell_type": "markdown",
   "metadata": {},
   "source": [
    "### In the MNIST dataset, the `x_train[2]` variable represents the input images for training, and `y_train[2]` contains the corresponding labels. Let's take a closer look at 📷 `x_train[2]` and 🏷️ `y_train[2]`.\n"
   ]
  },
  {
   "cell_type": "code",
   "execution_count": 5,
   "metadata": {
    "execution": {
     "iopub.execute_input": "2023-05-28T08:03:19.690214Z",
     "iopub.status.busy": "2023-05-28T08:03:19.689900Z",
     "iopub.status.idle": "2023-05-28T08:03:20.128790Z",
     "shell.execute_reply": "2023-05-28T08:03:20.127905Z",
     "shell.execute_reply.started": "2023-05-28T08:03:19.690187Z"
    }
   },
   "outputs": [
    {
     "data": {
      "text/plain": [
       "<matplotlib.image.AxesImage at 0x217deddf100>"
      ]
     },
     "execution_count": 5,
     "metadata": {},
     "output_type": "execute_result"
    },
    {
     "data": {
      "image/png": "[encoded data removed]",
      "text/plain": [
       "<Figure size 480x480 with 1 Axes>"
      ]
     },
     "metadata": {},
     "output_type": "display_data"
    }
   ],
   "source": [
    "#visualize an image which is 28*28\n",
    "plt.matshow(x_train[2]) "
   ]
  },
  {
   "cell_type": "code",
   "execution_count": 6,
   "metadata": {
    "execution": {
     "iopub.execute_input": "2023-05-28T08:03:20.132314Z",
     "iopub.status.busy": "2023-05-28T08:03:20.131088Z",
     "iopub.status.idle": "2023-05-28T08:03:20.138774Z",
     "shell.execute_reply": "2023-05-28T08:03:20.137781Z",
     "shell.execute_reply.started": "2023-05-28T08:03:20.132278Z"
    }
   },
   "outputs": [
    {
     "data": {
      "text/plain": [
       "4"
      ]
     },
     "execution_count": 6,
     "metadata": {},
     "output_type": "execute_result"
    }
   ],
   "source": [
    "y_train[2]"
   ]
  },
  {
   "cell_type": "markdown",
   "metadata": {},
   "source": [
    "### x_train[2]: 🖼️\n",
    "**This element of the training set contains an image representing a handwritten digit. It could be the image of the digit 4 in this case.**\n",
    "\n",
    "### y_train[2]: 🏷️\n",
    "**This element of the training set holds the label for the corresponding image. It indicates the actual digit represented by `x_train[2]`, which would be the label for the digit 4.**"
   ]
  },
  {
   "cell_type": "markdown",
   "metadata": {},
   "source": [
    "# Preaparing the dataset"
   ]
  },
  {
   "cell_type": "code",
   "execution_count": 7,
   "metadata": {
    "execution": {
     "iopub.execute_input": "2023-05-28T08:03:20.140757Z",
     "iopub.status.busy": "2023-05-28T08:03:20.140210Z",
     "iopub.status.idle": "2023-05-28T08:03:20.328302Z",
     "shell.execute_reply": "2023-05-28T08:03:20.327209Z",
     "shell.execute_reply.started": "2023-05-28T08:03:20.140691Z"
    }
   },
   "outputs": [],
   "source": [
    "#Normalizing the values\n",
    "x_tarin = x_train / 225\n",
    "x_test = x_test/ 225"
   ]
  },
  {
   "cell_type": "markdown",
   "metadata": {},
   "source": [
    "### The training set in the MNIST dataset has a shape of (60,000, 784) 📊\n",
    "#### This means it contains 60,000 samples, and each sample has 784 pixel values.\n",
    "\n",
    "#### The 784 pixels correspond to a 28x28 pixel grid that forms the image 🖼️. The values of the pixels represent the grayscale intensity, typically ranging from 0 to 255, where 0 represents black and 255 represents white. By organizing the pixels in a linear fashion, we obtain a 1D representation of the image with 784 elements. However, by using a Flatten layer in a neural network model, we can avoid the need to manually call .reshape on the input dataset. The Flatten layer automatically reshapes the input to a desired shape. \n",
    "\n",
    "✨🔍💡\n",
    "\n",
    "\n",
    "![](https://steemitimages.com/p/5s4dzRwnVbzGv1jaJfTpDwFBUjfmEQVuUdcW9pWhaguf35Nys5SH1Z5PpcXoEnidmuLx6SDszssCmVkVJ9AxcvRKTaizDaXEsRP2awQe65b8p7iifgUov56eX3LD9sKLtdpmpYbEmpS3evjWGwS4kyKKCN7JeYbPU3FmNSJ?format=match&mode=fit&width=640)"
   ]
  },
  {
   "cell_type": "markdown",
   "metadata": {},
   "source": [
    "# Building the NN model"
   ]
  },
  {
   "cell_type": "code",
   "execution_count": 4,
   "metadata": {
    "execution": {
     "iopub.execute_input": "2023-05-28T08:03:20.329840Z",
     "iopub.status.busy": "2023-05-28T08:03:20.329541Z",
     "iopub.status.idle": "2023-05-28T08:03:20.378454Z",
     "shell.execute_reply": "2023-05-28T08:03:20.377277Z",
     "shell.execute_reply.started": "2023-05-28T08:03:20.329814Z"
    }
   },
   "outputs": [],
   "source": [
    "model = tf.keras.Sequential([\n",
    "    tf.keras.layers.Flatten(input_shape=(28, 28)),\n",
    "    tf.keras.layers.Dense(100, activation='relu'),\n",
    "    tf.keras.layers.Dense(10, activation='sigmoid')\n",
    "])\n",
    "\n",
    "model.compile(optimizer='adam',\n",
    "              loss='sparse_categorical_crossentropy',\n",
    "              metrics=['accuracy'])"
   ]
  },
  {
   "cell_type": "markdown",
   "metadata": {},
   "source": [
    "# Training the model"
   ]
  },
  {
   "cell_type": "code",
   "execution_count": 8,
   "metadata": {
    "execution": {
     "iopub.execute_input": "2023-05-28T08:03:20.381028Z",
     "iopub.status.busy": "2023-05-28T08:03:20.380006Z",
     "iopub.status.idle": "2023-05-28T08:04:42.917654Z",
     "shell.execute_reply": "2023-05-28T08:04:42.916251Z",
     "shell.execute_reply.started": "2023-05-28T08:03:20.380995Z"
    }
   },
   "outputs": [
    {
     "name": "stdout",
     "output_type": "stream",
     "text": [
      "Epoch 1/10\n",
      "1875/1875 [==============================] - 4s 2ms/step - loss: 2.4800 - accuracy: 0.8501\n",
      "Epoch 2/10\n",
      "1875/1875 [==============================] - 3s 2ms/step - loss: 0.4115 - accuracy: 0.9063\n",
      "Epoch 3/10\n",
      "1875/1875 [==============================] - 3s 2ms/step - loss: 0.3031 - accuracy: 0.9238\n",
      "Epoch 4/10\n",
      "1875/1875 [==============================] - 3s 2ms/step - loss: 0.2431 - accuracy: 0.9372\n",
      "Epoch 5/10\n",
      "1875/1875 [==============================] - 3s 2ms/step - loss: 0.2254 - accuracy: 0.9425\n",
      "Epoch 6/10\n",
      "1875/1875 [==============================] - 3s 1ms/step - loss: 0.2127 - accuracy: 0.9458\n",
      "Epoch 7/10\n",
      "1875/1875 [==============================] - 3s 1ms/step - loss: 0.2017 - accuracy: 0.9481\n",
      "Epoch 8/10\n",
      "1875/1875 [==============================] - 3s 1ms/step - loss: 0.1896 - accuracy: 0.9511\n",
      "Epoch 9/10\n",
      "1875/1875 [==============================] - 3s 1ms/step - loss: 0.1845 - accuracy: 0.9522\n",
      "Epoch 10/10\n",
      "1875/1875 [==============================] - 3s 2ms/step - loss: 0.1898 - accuracy: 0.9522\n"
     ]
    },
    {
     "data": {
      "text/plain": [
       "<keras.callbacks.History at 0x1d5ece69730>"
      ]
     },
     "execution_count": 8,
     "metadata": {},
     "output_type": "execute_result"
    }
   ],
   "source": [
    "model.fit(x_train, y_train, epochs=10)"
   ]
  },
  {
   "cell_type": "markdown",
   "metadata": {},
   "source": [
    "# Evaluation"
   ]
  },
  {
   "cell_type": "code",
   "execution_count": 9,
   "metadata": {
    "execution": {
     "iopub.execute_input": "2023-05-28T08:04:42.919745Z",
     "iopub.status.busy": "2023-05-28T08:04:42.919309Z",
     "iopub.status.idle": "2023-05-28T08:04:44.451799Z",
     "shell.execute_reply": "2023-05-28T08:04:44.450523Z",
     "shell.execute_reply.started": "2023-05-28T08:04:42.919711Z"
    }
   },
   "outputs": [
    {
     "name": "stdout",
     "output_type": "stream",
     "text": [
      "313/313 [==============================] - 1s 1ms/step - loss: 0.2662 - accuracy: 0.9451\n"
     ]
    },
    {
     "data": {
      "text/plain": [
       "[0.26616987586021423, 0.9451000094413757]"
      ]
     },
     "execution_count": 9,
     "metadata": {},
     "output_type": "execute_result"
    }
   ],
   "source": [
    "model.evaluate(x_test, y_test)"
   ]
  },
  {
   "cell_type": "code",
   "execution_count": null,
   "metadata": {},
   "outputs": [],
   "source": []
  }
 ],
 "metadata": {
  "kernelspec": {
   "display_name": "Python [conda env:ric]",
   "language": "python",
   "name": "conda-env-ric-py"
  },
  "language_info": {
   "codemirror_mode": {
    "name": "ipython",
    "version": 3
   },
   "file_extension": ".py",
   "mimetype": "text/x-python",
   "name": "python",
   "nbconvert_exporter": "python",
   "pygments_lexer": "ipython3",
   "version": "3.9.16"
  }
 },
 "nbformat": 4,
 "nbformat_minor": 4
}
